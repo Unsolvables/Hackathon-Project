{
 "cells": [
  {
   "cell_type": "markdown",
   "id": "86e9dfc1-1780-447a-ae02-7ce0463f3757",
   "metadata": {},
   "source": [
    "<h1 style=\"font-size:2rem;color:black;\"> Cow Transportation Problem</h1>"
   ]
  },
  {
   "cell_type": "markdown",
   "id": "d1aad5d7-009a-49dc-8431-e5dbab309ab9",
   "metadata": {},
   "source": [
    "<h2 style=\"font-size:rem;color:black;\"> Problem Description</h2>"
   ]
  },
  {
   "cell_type": "markdown",
   "id": "c287af43-926d-438e-a00f-ee1011965074",
   "metadata": {},
   "source": [
    "A colony of super-intelligent alien bioengineers just landed on Earth to create new species. Their experiments on cows succeeded and they need to transport cows to their planet. However, their spaceship has a LIMIT weight and they need to minimize the number of trips due to high gas prices."
   ]
  },
  {
   "cell_type": "markdown",
   "id": "a4bc3a25-f89e-4eab-bfc1-b465292f7eb3",
   "metadata": {},
   "source": [
    "<div style=\"text-align: center;\">\n",
    "    <img src=\"space_cows.jpg\" \n",
    "     width=\"400\" \n",
    "     height=\"500\"/>\n",
    "     </div>"
   ]
  },
  {
   "cell_type": "markdown",
   "id": "44768319-3bed-4d29-a13d-86e532e40f39",
   "metadata": {},
   "source": [
    "<h2 style=\"font-size:rem;color:black;\"> Import and Configuration</h2>"
   ]
  },
  {
   "cell_type": "code",
   "execution_count": 1,
   "id": "73dd43dc-4273-4e24-b146-e2638e7f36b8",
   "metadata": {
    "ExecuteTime": {
     "end_time": "2024-03-09T09:58:30.191422300Z",
     "start_time": "2024-03-09T09:58:30.173429400Z"
    },
    "editable": true,
    "slideshow": {
     "slide_type": ""
    },
    "tags": []
   },
   "outputs": [],
   "source": [
    "from ps1_partition import get_partitions\n",
    "import timeit\n",
    "import matplotlib.pyplot as plt"
   ]
  },
  {
   "cell_type": "markdown",
   "id": "f242fba5-1ddf-47d0-98cb-05d3b9579b32",
   "metadata": {
    "editable": true,
    "slideshow": {
     "slide_type": ""
    },
    "tags": []
   },
   "source": [
    "<h2 style=\"font-size:rem;color:black;\"> Data preparation</h2>"
   ]
  },
  {
   "cell_type": "markdown",
   "id": "5bca420e-309e-40a5-ba7c-b05a8b29fb5d",
   "metadata": {},
   "source": [
    "Reading the given data. Assumes the cow name and weight pairs comma-separated, returns a dictionary containing names as keys and weights as values. Note that duplicate names can not be used."
   ]
  },
  {
   "cell_type": "code",
   "execution_count": 2,
   "id": "ffc2dbde-12f6-42e9-809d-6953b7dba413",
   "metadata": {
    "editable": true,
    "slideshow": {
     "slide_type": ""
    },
    "tags": []
   },
   "outputs": [],
   "source": [
    "def load_cows(filename):\n",
    "    cow_data = {}\n",
    "    with open(filename, \"r\") as data:\n",
    "        for i in data:\n",
    "            name, weight = i.strip().split(\",\")\n",
    "            cow_data[name] = int(weight)\n",
    "    return cow_data"
   ]
  },
  {
   "cell_type": "code",
   "execution_count": 3,
   "id": "8a4f8800-e8f2-4589-a386-cc0fd428dab9",
   "metadata": {},
   "outputs": [],
   "source": [
    "cow_data_1 = load_cows(\"ps1_cow_data.txt\")\n",
    "cow_data_2 = load_cows(\"ps1_cow_data_2.txt\")\n",
    "cow_data_even = load_cows(\"ps1_cow_data_even.txt\")"
   ]
  },
  {
   "cell_type": "markdown",
   "id": "96925dae-5a99-4957-98c5-db31503c04a5",
   "metadata": {},
   "source": [
    "<h2 style=\"font-size:rem;color:black;\"> Algorithms</h2>"
   ]
  },
  {
   "cell_type": "markdown",
   "id": "0f05181b-f54a-47bc-a743-dfe558d7164f",
   "metadata": {},
   "source": [
    "<h3 style=\"font-size:rem;color:black;\"> Greedy Algorithm</h3>"
   ]
  },
  {
   "cell_type": "markdown",
   "id": "172f10c3-4afa-4f45-8d90-4f7948956d57",
   "metadata": {},
   "source": [
    "The first algorithm to solve this optimization problem is Greedy Algorithm. It picks the heaviest cow first and then tries to fill the remaining limit with a suitable cow. To use Greedy, first data must be sorted by descending order."
   ]
  },
  {
   "cell_type": "code",
   "execution_count": 4,
   "id": "6a848038-be97-43e6-83da-deb479972925",
   "metadata": {},
   "outputs": [],
   "source": [
    "def greedy_cow_transport(cows, limit=10):\n",
    "    #Sort the cows in descending order\n",
    "    sorted_cows = sorted(cows.items(), key=lambda x: x[1], reverse=True)\n",
    "    trips = []\n",
    "    #Loop through the sorted_cows. Add the first cow in the sorted_cows list and iterate through the list until find a cow where the trip weight does not exceed the limit.\n",
    "    while sorted_cows:\n",
    "        trip = []\n",
    "        trip_weight = 0\n",
    "        i = 0\n",
    "        while i < len(sorted_cows):\n",
    "            cow, weight = sorted_cows[i]\n",
    "            if trip_weight + weight <= limit:\n",
    "                trip.append(cow)\n",
    "                trip_weight += weight\n",
    "                del sorted_cows[i]\n",
    "            else:\n",
    "                i += 1\n",
    "        trips.append(trip)\n",
    "    return trips"
   ]
  },
  {
   "cell_type": "markdown",
   "id": "ea5240b2-02d1-43f7-a751-782ddbf1feec",
   "metadata": {},
   "source": [
    "<h3 style=\"font-size:rem;color:black;\"> Brute Force Algorithm</h3>"
   ]
  },
  {
   "cell_type": "markdown",
   "id": "98bdc00c-edc7-4d23-b233-eb8095c52ff7",
   "metadata": {},
   "source": [
    "In Brute Force Algorithm all of the subsets are created by using partition functions. By looping through all possible partitions considering both limit and keeping the number of trips minimum optimal solution will be found. However, for large data calculation power needed for the Brute Force approach makes it unfeasible. "
   ]
  },
  {
   "cell_type": "code",
   "execution_count": 5,
   "id": "605f2da6-7388-427c-83a7-544522114f91",
   "metadata": {},
   "outputs": [],
   "source": [
    "def brute_force_cow_transport(cows, limit=10):\n",
    "    best_partition = None\n",
    "    min_trips = float('inf')\n",
    "    for partition in get_partitions(cows):\n",
    "        if all(sum(cows[name] for name in trip) <= limit for trip in partition):\n",
    "            if len(partition) < min_trips:\n",
    "                best_partition = partition\n",
    "                min_trips = len(partition)\n",
    "    return best_partition"
   ]
  },
  {
   "cell_type": "markdown",
   "id": "2e990ead-61b3-4cb6-83ef-088caf3bfdd8",
   "metadata": {},
   "source": [
    "<h3 style=\"font-size:rem;color:black;\"> Our Algorithm - Unsolvables v1</h3>"
   ]
  },
  {
   "cell_type": "markdown",
   "id": "1e70dfd9-1541-4844-a3ba-287055ed9e05",
   "metadata": {},
   "source": [
    "Our algorithm improves the Greedy Algorithm by processing and distributing the data before sorting. Firstly, stacks from 1 to limit are created inside our algorithm. When the cow is transferred into Unsolvables v1 it goes through some checks before sorting for Greedy Algorithm.\n",
    "- Check for whether its weight is equal to the limit weight. If so, it is directly added to the trips.\n",
    "- Check if limit - cow_weight stack is empty. If not pop the stack and add current_cow + popped cow to the trips.\n",
    "- If the stack is empty then add the current_cow to its corresponding stack\n",
    "\n",
    "After processing all the cows now we have trips that weigh exactly the limit tons and remaining stacks. Unsolvables v1 then add the remaining stacks to a list in descending order for Greedy Algorithm."
   ]
  },
  {
   "cell_type": "code",
   "execution_count": 6,
   "id": "b9ffcceb-4662-4f79-b9ad-b88966923d9c",
   "metadata": {},
   "outputs": [],
   "source": [
    "def unsolvables(cows, limit=10):\n",
    "    stacks = {f'stack{i + 1}': [] for i in range(limit)}\n",
    "    trips = []\n",
    "\n",
    "    for cow, weight in cows.items():\n",
    "        # Check if the cow's weight is equal to the limit weight\n",
    "        if weight == limit:\n",
    "            trips.append([cow])  # Add the cow directly to trips\n",
    "            continue  # Skip further processing for this cow\n",
    "\n",
    "        # Check if there is a cow inside the (limit - weight) stack\n",
    "        stack_index = limit - weight\n",
    "        stack_name = f'stack{stack_index}'\n",
    "        if stacks[stack_name]:\n",
    "            trips.append(stacks[stack_name].pop() + [cow])  # Append as a list\n",
    "        else:\n",
    "            # If no matching cow is found in the stacks, add the cow directly\n",
    "            stacks[f'stack{weight}'].append([cow])  # Append as a list\n",
    "\n",
    "    # Create a list of stacks in descending order\n",
    "    sorted_stacks = [stacks[f'stack{i}'] for i in range(limit, 0, -1)]\n",
    "    sorted_cows = [cow for stack in sorted_stacks for cow in stack]\n",
    "\n",
    "    # Implement the greedy algorithm to allocate cows to trips\n",
    "    current_trip = []\n",
    "    current_weight = 0\n",
    "    for cow in sorted_cows:\n",
    "        cow_weight = cows[cow[0]]\n",
    "        if current_weight + cow_weight <= limit:\n",
    "            current_trip.append(cow)\n",
    "            current_weight += cow_weight\n",
    "        else:\n",
    "            trips.append(current_trip)\n",
    "            current_trip = [cow]\n",
    "            current_weight = cow_weight\n",
    "    if current_trip:\n",
    "        trips.append(current_trip)\n",
    "\n",
    "    return trips"
   ]
  },
  {
   "cell_type": "markdown",
   "id": "81cf35e0-c1f1-4f90-b406-6c870b3afd2a",
   "metadata": {},
   "source": [
    "<h2 style=\"font-size:rem;color:black;\"> Comparing Algorithms</h2>"
   ]
  },
  {
   "cell_type": "markdown",
   "id": "9ac7eec9-c0b7-4173-9ea1-ef72fc1c68df",
   "metadata": {},
   "source": [
    "Lets start comparing the speeds for given datas:\n",
    "\n",
    "For data_1 (10 cows):"
   ]
  },
  {
   "cell_type": "code",
   "execution_count": 7,
   "id": "7524865e-a2f8-4b88-92c0-c1c1353562b4",
   "metadata": {},
   "outputs": [
    {
     "name": "stdout",
     "output_type": "stream",
     "text": [
      "Greedy Algorithm Time (ms): 0.009600000000276054\n",
      "Brute Force Algorithm Time (ms): 11.557800000000285\n"
     ]
    }
   ],
   "source": [
    "time_greedy = timeit.timeit(lambda: greedy_cow_transport(cow_data_1, 10), number=1) * 1000\n",
    "time_brute_force = timeit.timeit(lambda: brute_force_cow_transport(cow_data_2, 10), number=1) * 1000\n",
    "\n",
    "print(\"Greedy Algorithm Time (ms):\", time_greedy)\n",
    "print(\"Brute Force Algorithm Time (ms):\", time_brute_force)"
   ]
  },
  {
   "cell_type": "markdown",
   "id": "9dcbe103-014e-4434-b88e-3bb2bfc3293d",
   "metadata": {},
   "source": [
    "For data_2 (8 cows):"
   ]
  },
  {
   "cell_type": "code",
   "execution_count": 8,
   "id": "5212d191-257d-47ee-a5f7-1e18f30fe83f",
   "metadata": {},
   "outputs": [
    {
     "name": "stdout",
     "output_type": "stream",
     "text": [
      "Greedy Algorithm Time (ms): 0.00879999999980896\n",
      "Brute Force Algorithm Time (ms): 11.235200000000223\n"
     ]
    }
   ],
   "source": [
    "time_greedy = timeit.timeit(lambda: greedy_cow_transport(cow_data_2, 10), number=1) * 1000\n",
    "time_brute_force = timeit.timeit(lambda: brute_force_cow_transport(cow_data_2, 10), number=1) * 1000\n",
    "\n",
    "print(\"Greedy Algorithm Time (ms):\", time_greedy)\n",
    "print(\"Brute Force Algorithm Time (ms):\", time_brute_force)"
   ]
  }
 ],
 "metadata": {
  "kernelspec": {
   "display_name": "Python 3 (ipykernel)",
   "language": "python",
   "name": "python3"
  },
  "language_info": {
   "codemirror_mode": {
    "name": "ipython",
    "version": 3
   },
   "file_extension": ".py",
   "mimetype": "text/x-python",
   "name": "python",
   "nbconvert_exporter": "python",
   "pygments_lexer": "ipython3",
   "version": "3.9.13"
  }
 },
 "nbformat": 4,
 "nbformat_minor": 5
}
