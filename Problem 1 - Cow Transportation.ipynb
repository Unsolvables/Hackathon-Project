{
 "cells": [
  {
   "cell_type": "markdown",
   "id": "86e9dfc1-1780-447a-ae02-7ce0463f3757",
   "metadata": {},
   "source": [
    "<h1 style=\"font-size:2rem;color:black;\"> Cow Transportation Problem</h1>"
   ]
  },
  {
   "cell_type": "markdown",
   "id": "d1aad5d7-009a-49dc-8431-e5dbab309ab9",
   "metadata": {},
   "source": [
    "<h2 style=\"font-size:rem;color:black;\"> Problem Description</h2>"
   ]
  },
  {
   "cell_type": "markdown",
   "id": "c287af43-926d-438e-a00f-ee1011965074",
   "metadata": {},
   "source": [
    "A colony of super-intelligent alien bioengineers just landed on Earth to create new species. Their experiments on cows succeeded and they need to transport cows to their planet. However, their spaceship has a LIMIT weight and they need to minimize the number of trips due to high gas prices."
   ]
  },
  {
   "cell_type": "markdown",
   "id": "a4bc3a25-f89e-4eab-bfc1-b465292f7eb3",
   "metadata": {},
   "source": [
    "<div style=\"text-align: center;\">\n",
    "    <img src=\"Img/space_cows.jpg\" \n",
    "     width=\"400\" \n",
    "     height=\"500\"/>\n",
    "     </div>"
   ]
  },
  {
   "cell_type": "markdown",
   "id": "44768319-3bed-4d29-a13d-86e532e40f39",
   "metadata": {},
   "source": [
    "<h2 style=\"font-size:rem;color:black;\"> Import and Configuration</h2>"
   ]
  },
  {
   "cell_type": "code",
   "execution_count": 1,
   "id": "73dd43dc-4273-4e24-b146-e2638e7f36b8",
   "metadata": {
    "ExecuteTime": {
     "end_time": "2024-03-09T09:58:30.191422300Z",
     "start_time": "2024-03-09T09:58:30.173429400Z"
    },
    "editable": true,
    "slideshow": {
     "slide_type": ""
    },
    "tags": []
   },
   "outputs": [],
   "source": [
    "from py.ps1_partition import get_partitions\n",
    "import timeit\n",
    "import matplotlib.pyplot as plt\n",
    "from random import randint"
   ]
  },
  {
   "cell_type": "markdown",
   "id": "f242fba5-1ddf-47d0-98cb-05d3b9579b32",
   "metadata": {
    "editable": true,
    "slideshow": {
     "slide_type": ""
    },
    "tags": []
   },
   "source": [
    "<h2 style=\"font-size:rem;color:black;\"> Data preparation</h2>"
   ]
  },
  {
   "cell_type": "markdown",
   "id": "5bca420e-309e-40a5-ba7c-b05a8b29fb5d",
   "metadata": {},
   "source": [
    "Reading the given data. Assumes the cow name and weight pairs comma-separated, returns a dictionary containing names as keys and weights as values. Note that duplicate names can not be used."
   ]
  },
  {
   "cell_type": "code",
   "execution_count": 2,
   "id": "ffc2dbde-12f6-42e9-809d-6953b7dba413",
   "metadata": {
    "editable": true,
    "slideshow": {
     "slide_type": ""
    },
    "tags": []
   },
   "outputs": [],
   "source": [
    "def load_cows(filename):\n",
    "    cow_data = {}\n",
    "    with open(filename, \"r\") as data:\n",
    "        for i in data:\n",
    "            name, weight = i.strip().split(\",\")\n",
    "            cow_data[name] = int(weight)\n",
    "    return cow_data"
   ]
  },
  {
   "cell_type": "code",
   "execution_count": 3,
   "id": "8a4f8800-e8f2-4589-a386-cc0fd428dab9",
   "metadata": {},
   "outputs": [],
   "source": [
    "cow_data_1 = load_cows(\"Data/ps1_cow_data.txt\")\n",
    "cow_data_2 = load_cows(\"Data/ps1_cow_data_2.txt\")\n",
    "cow_data_even = load_cows(\"Data/ps1_cow_data_even.txt\")"
   ]
  },
  {
   "cell_type": "markdown",
   "id": "96925dae-5a99-4957-98c5-db31503c04a5",
   "metadata": {},
   "source": [
    "<h2 style=\"font-size:rem;color:black;\"> Algorithms</h2>"
   ]
  },
  {
   "cell_type": "markdown",
   "id": "0f05181b-f54a-47bc-a743-dfe558d7164f",
   "metadata": {},
   "source": [
    "<h3 style=\"font-size:rem;color:black;\"> Greedy Algorithm</h3>"
   ]
  },
  {
   "cell_type": "markdown",
   "id": "172f10c3-4afa-4f45-8d90-4f7948956d57",
   "metadata": {},
   "source": [
    "The first algorithm to solve this optimization problem is Greedy Algorithm. It picks the heaviest cow first and then tries to fill the remaining limit with a suitable cow. To use Greedy, first data must be sorted by descending order."
   ]
  },
  {
   "cell_type": "code",
   "execution_count": 4,
   "id": "6a848038-be97-43e6-83da-deb479972925",
   "metadata": {},
   "outputs": [],
   "source": [
    "def greedy_cow_transport(cows, limit=10):\n",
    "    #Sort the cows in descending order\n",
    "    sorted_cows = sorted(cows.items(), key=lambda x: x[1], reverse=True)\n",
    "    trips = []\n",
    "    #Loop through the sorted_cows. Add the first cow in the sorted_cows list and iterate through the list until find a cow where the trip weight does not exceed the limit.\n",
    "    while sorted_cows:\n",
    "        trip = []\n",
    "        trip_weight = 0\n",
    "        i = 0\n",
    "        while i < len(sorted_cows):\n",
    "            cow, weight = sorted_cows[i]\n",
    "            if trip_weight + weight <= limit:\n",
    "                trip.append(cow)\n",
    "                trip_weight += weight\n",
    "                del sorted_cows[i]\n",
    "            else:\n",
    "                i += 1\n",
    "        trips.append(trip)\n",
    "    return trips"
   ]
  },
  {
   "cell_type": "markdown",
   "id": "ea5240b2-02d1-43f7-a751-782ddbf1feec",
   "metadata": {},
   "source": [
    "<h3 style=\"font-size:rem;color:black;\"> Brute Force Algorithm</h3>"
   ]
  },
  {
   "cell_type": "markdown",
   "id": "98bdc00c-edc7-4d23-b233-eb8095c52ff7",
   "metadata": {},
   "source": [
    "In Brute Force Algorithm all of the subsets are created by using partition functions. By looping through all possible partitions considering both limit and keeping the number of trips minimum optimal solution will be found. However, for large data calculation power needed for the Brute Force approach makes it unfeasible. "
   ]
  },
  {
   "cell_type": "code",
   "execution_count": 5,
   "id": "605f2da6-7388-427c-83a7-544522114f91",
   "metadata": {},
   "outputs": [],
   "source": [
    "def brute_force_cow_transport(cows, limit=10):\n",
    "    best_partition = None\n",
    "    min_trips = float('inf')\n",
    "    for partition in get_partitions(cows):\n",
    "        if all(sum(cows[name] for name in trip) <= limit for trip in partition):\n",
    "            if len(partition) < min_trips:\n",
    "                best_partition = partition\n",
    "                min_trips = len(partition)\n",
    "    return best_partition"
   ]
  },
  {
   "cell_type": "markdown",
   "id": "81cf35e0-c1f1-4f90-b406-6c870b3afd2a",
   "metadata": {},
   "source": [
    "<h2 style=\"font-size:rem;color:black;\"> Comparing Algorithms</h2>"
   ]
  },
  {
   "cell_type": "markdown",
   "id": "9ac7eec9-c0b7-4173-9ea1-ef72fc1c68df",
   "metadata": {},
   "source": [
    "<h3 style=\"font-size:rem;color:black;\"> Speed Comparison</h3>\n",
    "\n",
    "\n",
    "Let's start comparing the speeds for the given data:\n",
    "\n",
    "For data_1 (10 cows):"
   ]
  },
  {
   "cell_type": "code",
   "execution_count": 6,
   "id": "7524865e-a2f8-4b88-92c0-c1c1353562b4",
   "metadata": {},
   "outputs": [
    {
     "name": "stdout",
     "output_type": "stream",
     "text": [
      "Greedy Algorithm Time (ms): 0.010000000000065512\n",
      "Brute Force Algorithm Time (ms): 11.781099999999878\n"
     ]
    }
   ],
   "source": [
    "time_greedy = timeit.timeit(lambda: greedy_cow_transport(cow_data_1, 10), number=1) * 1000\n",
    "time_brute_force = timeit.timeit(lambda: brute_force_cow_transport(cow_data_2, 10), number=1) * 1000\n",
    "\n",
    "print(\"Greedy Algorithm Time (ms):\", time_greedy)\n",
    "print(\"Brute Force Algorithm Time (ms):\", time_brute_force)"
   ]
  },
  {
   "cell_type": "markdown",
   "id": "9dcbe103-014e-4434-b88e-3bb2bfc3293d",
   "metadata": {},
   "source": [
    "For data_2 (8 cows):"
   ]
  },
  {
   "cell_type": "code",
   "execution_count": 7,
   "id": "5212d191-257d-47ee-a5f7-1e18f30fe83f",
   "metadata": {},
   "outputs": [
    {
     "name": "stdout",
     "output_type": "stream",
     "text": [
      "Greedy Algorithm Time (ms): 0.00819999999990273\n",
      "Brute Force Algorithm Time (ms): 11.071300000000228\n"
     ]
    }
   ],
   "source": [
    "time_greedy = timeit.timeit(lambda: greedy_cow_transport(cow_data_2, 10), number=1) * 1000\n",
    "time_brute_force = timeit.timeit(lambda: brute_force_cow_transport(cow_data_2, 10), number=1) * 1000\n",
    "\n",
    "print(\"Greedy Algorithm Time (ms):\", time_greedy)\n",
    "print(\"Brute Force Algorithm Time (ms):\", time_brute_force)"
   ]
  },
  {
   "cell_type": "markdown",
   "id": "d6c000a6-eeb3-4be5-a97d-f53878a1379a",
   "metadata": {},
   "source": [
    "As expected Brute Force Algorithm is slower. If we want to see the speeds for growing dataset we can simply write:"
   ]
  },
  {
   "cell_type": "code",
   "execution_count": 8,
   "id": "0a656349-99e6-4d68-b414-76f1e62dbec1",
   "metadata": {},
   "outputs": [],
   "source": [
    "results_greedy = []\n",
    "results_brute_force = []\n",
    "subset_cow_data = {}\n",
    "a = len(list(cow_data_1.items()))\n",
    "for num_cows in range(1, a + 1):\n",
    "    # Limit the subset cow data to the current number of cows\n",
    "        count = 0\n",
    "        for key, value in cow_data_1.items():\n",
    "            if count < num_cows:\n",
    "                subset_cow_data[key] = value\n",
    "                count += 1\n",
    "        # Greedy algorithm\n",
    "        time_greedy = timeit.timeit(lambda: greedy_cow_transport(subset_cow_data, 10), number=1) * 1000\n",
    "        results_greedy.append(time_greedy)\n",
    "        # Brute force algorithm\n",
    "        time_brute_force = timeit.timeit(lambda: brute_force_cow_transport(subset_cow_data, 10), number=1) * 1000\n",
    "        results_brute_force.append(time_brute_force)"
   ]
  },
  {
   "cell_type": "markdown",
   "id": "0aa8245b-64db-45f4-a75f-22997c05a13f",
   "metadata": {},
   "source": [
    "Plot the results with matplotlib:"
   ]
  },
  {
   "cell_type": "code",
   "execution_count": 9,
   "id": "f5a8a31d-f64f-47ba-a24e-954cf221a85d",
   "metadata": {},
   "outputs": [
    {
     "data": {
      "image/png": "[encoded data removed]",
      "text/plain": [
       "<Figure size 1000x600 with 1 Axes>"
      ]
     },
     "metadata": {},
     "output_type": "display_data"
    }
   ],
   "source": [
    "plt.figure(figsize=(10, 6))\n",
    "num_cows = list(range(1, 12))\n",
    "plt.plot(num_cows, results_greedy, marker='o', markersize=1, label='Greedy Algorithm', color='blue')\n",
    "plt.plot(num_cows, results_brute_force, marker='s', markersize=1, label='Brute Force Algorithm', color='red')\n",
    "plt.xlabel('Number of Cows')\n",
    "plt.xlabel('Number of Cows')\n",
    "plt.ylabel('Time (ms)')\n",
    "plt.title('Speed Comparison of Greedy and Brute Force Algorithms')\n",
    "plt.legend()\n",
    "plt.grid(True)\n",
    "plt.xticks(range(0, 11, 1))\n",
    "plt.ylim(0.001, 500)\n",
    "plt.yscale('log')\n",
    "plt.xlim(0, 11)\n",
    "plt.tight_layout()\n",
    "plt.show()"
   ]
  },
  {
   "cell_type": "markdown",
   "id": "818c44d2-93b9-45e4-8a6b-4353d3dbce55",
   "metadata": {},
   "source": [
    "<h3 style=\"font-size:rem;color:black;\"> Accuracy Comparison</h3>\n",
    "\n",
    "\n",
    "If we compare the accuracy of the algorithms on the other hand:"
   ]
  },
  {
   "cell_type": "code",
   "execution_count": 10,
   "id": "546b8fac-74ec-467d-81be-b85cde9a0a27",
   "metadata": {},
   "outputs": [
    {
     "name": "stdout",
     "output_type": "stream",
     "text": [
      "Number of trips for data_1 using Greedy Algorithm is: 6\n"
     ]
    }
   ],
   "source": [
    "print(\"Number of trips for data_1 using Greedy Algorithm is:\", len(greedy_cow_transport(cow_data_1, 10)))"
   ]
  },
  {
   "cell_type": "code",
   "execution_count": 11,
   "id": "01016202-e316-4ac7-899b-6f3036124580",
   "metadata": {},
   "outputs": [
    {
     "name": "stdout",
     "output_type": "stream",
     "text": [
      "Number of trips for data_1 using Brute Force Algorithm is: 5\n"
     ]
    }
   ],
   "source": [
    "print(\"Number of trips for data_1 using Brute Force Algorithm is:\", len(brute_force_cow_transport(cow_data_1, 10)))"
   ]
  },
  {
   "cell_type": "markdown",
   "id": "7a693315-7e66-4158-8add-87ecb52bdbff",
   "metadata": {},
   "source": [
    "As can be seen, Brute Force Algorithm gives more optimal results. This is due to the nature of the algorithms. The Greedy Algorithm tries to push the heaviest cows first without considering the remaining cows. So in the end, there will be trips that are not full. In addition, if the data distributed evenly Greedy will give the optimal results since there wont be remaining voids to optimize. Lets check it for a evenly distrubuted data:"
   ]
  },
  {
   "cell_type": "code",
   "execution_count": 12,
   "id": "39f815ca-f5f0-4cca-ab5a-84235ccba029",
   "metadata": {},
   "outputs": [
    {
     "name": "stdout",
     "output_type": "stream",
     "text": [
      "Number of trips for data_1 using Greedy Algorithm is: 55\n"
     ]
    }
   ],
   "source": [
    "print(\"Number of trips for data_1 using Greedy Algorithm is:\", len(greedy_cow_transport(cow_data_even, 10)))"
   ]
  },
  {
   "cell_type": "markdown",
   "id": "7bbc149c-899c-4fa6-90c7-b0f352e7d5d8",
   "metadata": {},
   "source": [
    "cow_data_even data has 10 of each weights(10 of 1t, 10 of 2t...10 of 10t).\n",
    "Therefore, 10t cows, will be added to a single trip and the remaining 90 cows will transported with 45 trips. The total number of trips is 55 which is the optimal result. So we can say that if the data is evenly distributed or nearly evenly, the Greedy Algorithm also tends to give optimal results. Like in all problems, these problems show that we need to know the data before selecting an algorithm. For given data (which is only 10 cows) it is better to use the Brute Force algorithm. On the other hand, the Brute Force looks at the whole search space(without optimizing) and selects the optimal results. For a large dataset(more than 12 cows if we think realistically) since Brute Force's computation time grows exponentially it is not possible to use it. "
   ]
  },
  {
   "cell_type": "markdown",
   "id": "d4ba0b76-0d61-4e91-b4d5-0bf6a51b37ec",
   "metadata": {},
   "source": [
    "<h2 style=\"font-size:rem;color:black;\"> Improved Algorithm</h2>"
   ]
  },
  {
   "cell_type": "markdown",
   "id": "125c2d2e-3443-4e7a-8f85-adbc943a2078",
   "metadata": {},
   "source": [
    "We discussed the problem and how we can improve the algorithms. Since it is a bit hard to optimize the accuracy of the Greedy Algorithm, we decided to increase the speed."
   ]
  },
  {
   "cell_type": "markdown",
   "id": "2e990ead-61b3-4cb6-83ef-088caf3bfdd8",
   "metadata": {},
   "source": [
    "<h3 style=\"font-size:rem;color:black;\"> Our Algorithm - Unsolvables v1</h3>"
   ]
  },
  {
   "cell_type": "markdown",
   "id": "1e70dfd9-1541-4844-a3ba-287055ed9e05",
   "metadata": {},
   "source": [
    "Our algorithm improves the Greedy Algorithm by processing and distributing the data before sorting. Firstly, stacks from 1 to limit are created inside our algorithm. When the cow is transferred into Unsolvables v1 it goes through some checks before sorting for Greedy Algorithm.\n",
    "- Check for whether its weight is equal to the limit weight. If so, it is directly added to the trips.\n",
    "- Check if limit - cow_weight stack is empty. If not pop the stack and add current_cow + popped cow to the trips.\n",
    "- If the stack is empty then add the current_cow to its corresponding stack\n",
    "\n",
    "After processing all the cows now we have trips that weigh exactly the limit tons and remaining stacks. Unsolvables v1 then add the remaining stacks to a list in descending order for Greedy Algorithm."
   ]
  },
  {
   "cell_type": "code",
   "execution_count": 13,
   "id": "b9ffcceb-4662-4f79-b9ad-b88966923d9c",
   "metadata": {},
   "outputs": [],
   "source": [
    "def unsolvables(cows, limit=10):\n",
    "    stacks = {f'stack{i + 1}': [] for i in range(limit)}\n",
    "    trips = []\n",
    "\n",
    "    for cow, weight in cows.items():\n",
    "        # Check if the cow's weight is equal to the limit weight\n",
    "        if weight == limit:\n",
    "            trips.append([cow])  # Add the cow directly to trips\n",
    "            continue  # Skip further processing for this cow\n",
    "\n",
    "        # Check if there is a cow inside the (limit - weight) stack\n",
    "        stack_index = limit - weight\n",
    "        stack_name = f'stack{stack_index}'\n",
    "        if stacks[stack_name]:\n",
    "            trips.append(stacks[stack_name].pop() + [cow])  # Append as a list\n",
    "        else:\n",
    "            # If no matching cow is found in the stacks, add the cow directly\n",
    "            stacks[f'stack{weight}'].append([cow])  # Append as a list\n",
    "\n",
    "    # Create a list of stacks in descending order\n",
    "    sorted_stacks = [stacks[f'stack{i}'] for i in range(limit, 0, -1)]\n",
    "    sorted_cows = [cow for stack in sorted_stacks for cow in stack]\n",
    "\n",
    "    # Implement the greedy algorithm to allocate cows to trips\n",
    "    current_trip = []\n",
    "    current_weight = 0\n",
    "    for cow in sorted_cows:\n",
    "        cow_weight = cows[cow[0]]\n",
    "        if current_weight + cow_weight <= limit:\n",
    "            current_trip.append(cow)\n",
    "            current_weight += cow_weight\n",
    "        else:\n",
    "            trips.append(current_trip)\n",
    "            current_trip = [cow]\n",
    "            current_weight = cow_weight\n",
    "    if current_trip:\n",
    "        trips.append(current_trip)\n",
    "\n",
    "    return trips"
   ]
  },
  {
   "cell_type": "markdown",
   "id": "d1551b52-6103-4558-832d-e0a3b87d71b0",
   "metadata": {},
   "source": [
    "<h3 style=\"font-size:rem;color:black;\"> Comparing Speed vs Greedy</h3>\n"
   ]
  },
  {
   "cell_type": "markdown",
   "id": "85222238-09c8-473d-b059-f78d094f8151",
   "metadata": {},
   "source": [
    "Compare the speeds for 2000 generated data:"
   ]
  },
  {
   "cell_type": "code",
   "execution_count": 14,
   "id": "d923ef24-276f-47a7-b53e-bd54927dffcc",
   "metadata": {},
   "outputs": [],
   "source": [
    "# Generate 2000 data entries\n",
    "cows_gen_data = {f'pamuk{i}': randint(1, 10) for i in range(1, 2001)}"
   ]
  },
  {
   "cell_type": "code",
   "execution_count": null,
   "id": "af56a9e9-89fc-4eb8-9881-f9b4e0515280",
   "metadata": {},
   "outputs": [],
   "source": [
    "results_greedy = []\n",
    "results_unsolvables = []\n",
    "subset_cow_data = {}\n",
    "a = len(list(cows_gen_data.items()))\n",
    "for num_cows in range(1, a + 1):\n",
    "    # Limit the subset cow data to the current number of cows\n",
    "        count = 0\n",
    "        for key, value in cows_gen_data.items():\n",
    "            if count < num_cows:\n",
    "                subset_cow_data[key] = value\n",
    "                count += 1\n",
    "        # Greedy algorithm\n",
    "        time_greedy = timeit.timeit(lambda: greedy_cow_transport(subset_cow_data, 10), number=1) * 1000\n",
    "        results_greedy.append(time_greedy)\n",
    "        # Unsolvables algorithm\n",
    "        time_unsolvables = timeit.timeit(lambda: unsolvables(subset_cow_data, 10), number=1) * 1000\n",
    "        results_unsolvables.append(time_unsolvables)"
   ]
  },
  {
   "cell_type": "code",
   "execution_count": null,
   "id": "2033ffc0-3d15-4332-bdbb-ae65a45b5fc6",
   "metadata": {},
   "outputs": [],
   "source": [
    "plt.figure(figsize=(10, 6))\n",
    "num_cows = list(range(1, 2001))\n",
    "plt.plot(num_cows, results_greedy, marker='o', markersize=1, label='Greedy Algorithm', color='blue')\n",
    "plt.plot(num_cows, results_unsolvables, marker='s', markersize=1, label='Unsolvables Algorithm', color='red')\n",
    "plt.xlabel('Number of Cows')\n",
    "plt.xlabel('Number of Cows')\n",
    "plt.ylabel('Time (ms)')\n",
    "plt.title('Speed Comparison of Greedy and Unsolvables Algorithms')\n",
    "plt.legend()\n",
    "plt.grid(True)\n",
    "plt.xticks(range(0, 2001, 100))\n",
    "plt.xlim(0, 2001)\n",
    "plt.yscale('log')  # Set y-axis to logarithmic scale\n",
    "plt.ylim(0.001, 1000)\n",
    "plt.tight_layout()\n",
    "plt.show()"
   ]
  },
  {
   "cell_type": "markdown",
   "id": "f8d6a3ea-a388-40f8-b850-ec4f20affdea",
   "metadata": {},
   "source": [
    "As can be seen in the graph our algorithm sieves the data before processing(sorting) and as a result, it is not affected by the size of the data. Instead, Unsolvables uses memory space to store the cows before sorting."
   ]
  },
  {
   "cell_type": "code",
   "execution_count": null,
   "id": "3cbf5a5b-8a00-4697-8bee-12d9ba377c6f",
   "metadata": {},
   "outputs": [],
   "source": []
  }
 ],
 "metadata": {
  "kernelspec": {
   "display_name": "Python 3 (ipykernel)",
   "language": "python",
   "name": "python3"
  },
  "language_info": {
   "codemirror_mode": {
    "name": "ipython",
    "version": 3
   },
   "file_extension": ".py",
   "mimetype": "text/x-python",
   "name": "python",
   "nbconvert_exporter": "python",
   "pygments_lexer": "ipython3",
   "version": "3.9.13"
  }
 },
 "nbformat": 4,
 "nbformat_minor": 5
}
