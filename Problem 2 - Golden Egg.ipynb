{
 "cells": [
  {
   "cell_type": "markdown",
   "id": "2bfdcc75-2a01-4650-9e5f-c46fc2bcb6c7",
   "metadata": {},
   "source": [
    "<h1 style=\"font-size:2rem;color:black;\"> Golden Egg Problem</h1>"
   ]
  },
  {
   "cell_type": "markdown",
   "id": "fb27f1a5-0301-4dae-8da8-9c1882cf0ace",
   "metadata": {},
   "source": [
    "<h2 style=\"font-size:rem;color:black;\"> Problem Description</h2>"
   ]
  },
  {
   "cell_type": "markdown",
   "id": "549582de-8e54-4646-8230-b68e6325e9d0",
   "metadata": {},
   "source": [
    "After transporting the cows, one of the interns from Aucks discovers flocks of golden geese. However, due to budget constraints, they must downsize their ships, making it impossible to transport the geese. Instead, they decided to transport eggs. All eggs have the same size but different weights due to their density. Therefore, they need to transfer the heavier eggs first. This is a classic dynamic programming problem where we need to minimize the number of eggs as well as maintain the weight limit."
   ]
  },
  {
   "cell_type": "markdown",
   "id": "31c38d55-f903-447b-a53c-378d8507833a",
   "metadata": {},
   "source": [
    "<div style=\"text-align: center;\">\n",
    "    <img src=\"Img/golden_eggs.jpg\" \n",
    "     width=\"400\" \n",
    "     height=\"500\"/>\n",
    "     </div>"
   ]
  },
  {
   "cell_type": "markdown",
   "id": "34cc57ab-305b-4f83-acfc-2fa40feb490d",
   "metadata": {},
   "source": [
    "<h2 style=\"font-size:rem;color:black;\"> Import and Configuration</h2>"
   ]
  },
  {
   "cell_type": "code",
   "execution_count": 1,
   "id": "7e9d7708-5fdb-4798-bfa5-2bab28f1338a",
   "metadata": {},
   "outputs": [],
   "source": [
    "from visualiser.visualiser import Visualiser as vs"
   ]
  },
  {
   "cell_type": "markdown",
   "id": "090ceeb9-c610-4749-ad5d-1e6523a7ba5e",
   "metadata": {},
   "source": [
    "<h2 style=\"font-size:rem;color:black;\"> Algorithms</h2>"
   ]
  },
  {
   "cell_type": "markdown",
   "id": "5966e714-c8a9-457d-87a6-7e7399384152",
   "metadata": {},
   "source": [
    "To solve this dynamic programming problem we can either use top-down recursive method or the bottom-up tabulation method. We decided to move with top-down approach."
   ]
  },
  {
   "cell_type": "code",
   "execution_count": 2,
   "id": "23610a4e-1b74-40e0-a4b6-0b8acbea9d7e",
   "metadata": {},
   "outputs": [],
   "source": [
    "@vs(ignore_args=['node_num'], show_argument_name=True, show_return_value=False)\n",
    "def dp_make_weight(egg_weights, target_weight):\n",
    "    min_eggs = target_weight\n",
    "    for egg_weight in egg_weights:\n",
    "        if egg_weight <= target_weight:\n",
    "            num_eggs = 1 + dp_make_weight(egg_weights, target_weight - egg_weight)\n",
    "            if num_eggs < min_eggs:\n",
    "                min_eggs = num_eggs\n",
    "    return min_eggs"
   ]
  },
  {
   "cell_type": "markdown",
   "id": "0bd10bfd-6f08-4edf-9fd2-e69a5b256929",
   "metadata": {},
   "source": [
    "Let's test it and look at the stack:"
   ]
  },
  {
   "cell_type": "code",
   "execution_count": 3,
   "id": "aca6f4b8-274f-471c-9240-ed17d63d239f",
   "metadata": {},
   "outputs": [
    {
     "name": "stdout",
     "output_type": "stream",
     "text": [
      "Drawing for dp_make_weight(1)\n",
      "Actual output: 4\n",
      "Starting to make animation\n",
      "File Img/egg.png successfully written\n",
      "Writing frames....\n",
      "Writing gif...\n",
      "Saved gif Img/egg.gif successfully\n"
     ]
    }
   ],
   "source": [
    "if __name__ == \"__main__\":\n",
    "    egg_weights = (1, 6)\n",
    "    n = 9\n",
    "    print(\"Actual output:\", dp_make_weight(egg_weights, n))\n",
    "    # Save recursion tree to a file\n",
    "    vs.make_animation(\"Img/egg.gif\", delay=2)"
   ]
  },
  {
   "cell_type": "markdown",
   "id": "ca0f62f7-25c9-4174-8f70-e843cf886714",
   "metadata": {},
   "source": [
    "<img src=\"Img/egg.gif\" width=\"1200\" align=\"center\">"
   ]
  },
  {
   "cell_type": "markdown",
   "id": "15d85ad2-d7de-40d8-82de-9399e31d1081",
   "metadata": {},
   "source": [
    "We choose only 2 eggs to show the stack since it grows exponentially. There are many duplicate values inside the call stack, to improve the algorithm we can use memoization. Lets implement and check the stack again:"
   ]
  },
  {
   "cell_type": "code",
   "execution_count": 4,
   "id": "2bfbf1dd-a938-4e1c-a0b0-ef03fc9c140d",
   "metadata": {},
   "outputs": [],
   "source": [
    "@vs(ignore_args=['node_num'], show_argument_name=True, show_return_value=False)\n",
    "def dp_make_weight_memo(eggs_weights, target_weight, memo=None):\n",
    "\n",
    "    # Checking if the target_weight is already in memo\n",
    "    if memo is None:\n",
    "        memo = {}\n",
    "    if target_weight in memo:\n",
    "        return memo[target_weight]\n",
    "\n",
    "    min_eggs = target_weight\n",
    "\n",
    "    # If the target_weight is in the list of egg_weights, we need only 1 egg\n",
    "    if target_weight in eggs_weights:\n",
    "        memo[target_weight] = 1\n",
    "        return 1\n",
    "\n",
    "    # Looping through each egg weight\n",
    "    for i in eggs_weights:\n",
    "        if i <= target_weight:\n",
    "            # Calculating the number of eggs recursively\n",
    "            num_eggs = 1 + dp_make_weight_memo(eggs_weights, target_weight - i, memo)\n",
    "            # Updating min_eggs if necessary\n",
    "            if num_eggs < min_eggs:\n",
    "                min_eggs = num_eggs\n",
    "                memo[target_weight] = min_eggs\n",
    "\n",
    "    return min_eggs"
   ]
  },
  {
   "cell_type": "code",
   "execution_count": null,
   "id": "fc6c46d7-0fe1-4973-b0a5-72882c278678",
   "metadata": {},
   "outputs": [
    {
     "name": "stdout",
     "output_type": "stream",
     "text": [
      "Drawing for dp_make_weight_memo(1)\n",
      "Actual output: 4\n",
      "Starting to make animation\n",
      "File Img/egg_memo.png successfully written\n",
      "Writing frames....\n"
     ]
    }
   ],
   "source": [
    "if __name__ == \"__main__\":\n",
    "    egg_weights = (1, 6)\n",
    "    n = 9\n",
    "    print(\"Actual output:\", dp_make_weight_memo(egg_weights, n))\n",
    "    # Save recursion tree to a file\n",
    "    vs.make_animation(\"Img/egg_memo.gif\", delay=2)"
   ]
  },
  {
   "cell_type": "markdown",
   "id": "0475f75f-6979-41b9-aeb9-992c2f87513f",
   "metadata": {},
   "source": [
    "<img src=\"Img/egg_memo.gif\" width=\"1200\" align=\"center\">"
   ]
  },
  {
   "cell_type": "code",
   "execution_count": null,
   "id": "77197608-a81a-4cfd-b983-ee9339e7979f",
   "metadata": {},
   "outputs": [],
   "source": []
  }
 ],
 "metadata": {
  "kernelspec": {
   "display_name": "Python 3 (ipykernel)",
   "language": "python",
   "name": "python3"
  },
  "language_info": {
   "codemirror_mode": {
    "name": "ipython",
    "version": 3
   },
   "file_extension": ".py",
   "mimetype": "text/x-python",
   "name": "python",
   "nbconvert_exporter": "python",
   "pygments_lexer": "ipython3",
   "version": "3.9.13"
  }
 },
 "nbformat": 4,
 "nbformat_minor": 5
}
